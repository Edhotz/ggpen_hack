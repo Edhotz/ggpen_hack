{
  "cells": [
    {
      "cell_type": "markdown",
      "id": "d5104028",
      "metadata": {
        "id": "d5104028"
      },
      "source": [
        "# Visualização de NDVI e Previsões com ARIMA em Mapas Interativos\n",
        "\n",
        "Este notebook carrega imagens NDVI, treina um modelo ARIMA para fazer previsões de séries temporais,\n",
        "e exibe as imagens e previsões em mapas interativos usando a biblioteca **Folium**.\n",
        "\n",
        "## Passos:\n",
        "1. Carregar dados NDVI das imagens .tif.\n",
        "2. Treinar um modelo ARIMA para prever os NDVIs futuros.\n",
        "3. Exibir os NDVIs e as previsões em um mapa interativo.\n",
        "\n"
      ]
    },
    {
      "cell_type": "code",
      "execution_count": 6,
      "id": "b27050fd",
      "metadata": {
        "id": "b27050fd"
      },
      "outputs": [],
      "source": [
        "\n",
        "import os\n",
        "import numpy as np\n",
        "import rasterio\n",
        "import folium\n",
        "from rasterio.plot import show\n",
        "import matplotlib.pyplot as plt\n",
        "from sklearn.preprocessing import MinMaxScaler\n",
        "from statsmodels.tsa.arima.model import ARIMA\n",
        "from folium import plugins\n"
      ]
    },
    {
      "cell_type": "code",
      "execution_count": 7,
      "id": "f5887767",
      "metadata": {
        "id": "f5887767"
      },
      "outputs": [],
      "source": [
        "def create_ndvi_map(image_file, map_center, zoom_start=10):\n",
        "    with rasterio.open(image_file) as src:\n",
        "        ndvi_image = src.read(1)\n",
        "        ndvi_bounds = src.bounds\n",
        "        ndvi_min, ndvi_max = np.nanmin(ndvi_image), np.nanmax(ndvi_image)\n",
        "\n",
        "        # Criar o mapa centrado nas coordenadas fornecidas\n",
        "        ndvi_map = folium.Map(location=map_center, zoom_start=zoom_start)\n",
        "\n",
        "        # Converter NDVI para HTMLOverlay, que será sobreposto ao mapa\n",
        "        plt.figure(figsize=(8, 6))\n",
        "\n",
        "        # Mostrar a imagem com imshow para que possamos associar a colorbar\n",
        "        img = plt.imshow(ndvi_image, cmap='RdYlGn', vmin=ndvi_min, vmax=ndvi_max)\n",
        "\n",
        "        # Adicionar a colorbar associada à imagem plotada\n",
        "        plt.colorbar(img, label='NDVI')\n",
        "\n",
        "        plt.title('Imagem NDVI')\n",
        "        plt.savefig('ndvi_image.png')\n",
        "        plt.close()\n",
        "\n",
        "        # Adicionar imagem ao mapa usando Overlay de imagem\n",
        "        ndvi_overlay = folium.raster_layers.ImageOverlay(\n",
        "            image='ndvi_image.png',\n",
        "            bounds=[[ndvi_bounds.bottom, ndvi_bounds.left],\n",
        "                    [ndvi_bounds.top, ndvi_bounds.right]],\n",
        "            opacity=0.6\n",
        "        )\n",
        "        ndvi_overlay.add_to(ndvi_map)\n",
        "\n",
        "        return ndvi_map\n"
      ]
    },
    {
      "cell_type": "code",
      "execution_count": 8,
      "id": "d477881a",
      "metadata": {
        "id": "d477881a"
      },
      "outputs": [],
      "source": [
        "\n",
        "def load_and_sample_data(image_folder, sample_size=1000):\n",
        "    ndvi_files = sorted([f for f in os.listdir(image_folder) if f.endswith(\".tif\")])\n",
        "    ndvi_timeseries = []\n",
        "\n",
        "    for file in ndvi_files:\n",
        "        file_path = os.path.join(image_folder, file)\n",
        "        with rasterio.open(file_path) as src:\n",
        "            ndvi_image = src.read(1)\n",
        "            flat_image = ndvi_image.flatten()\n",
        "            sampled_pixels = np.random.choice(flat_image, size=sample_size, replace=False)\n",
        "            ndvi_timeseries.append(np.mean(sampled_pixels))\n",
        "\n",
        "    return np.array(ndvi_timeseries)\n"
      ]
    },
    {
      "cell_type": "code",
      "execution_count": 9,
      "id": "bdb8827b",
      "metadata": {
        "id": "bdb8827b"
      },
      "outputs": [],
      "source": [
        "\n",
        "def train_arima_model(data):\n",
        "    model = ARIMA(data, order=(1, 1, 1))\n",
        "    results = model.fit()\n",
        "    return results\n",
        "\n",
        "def make_predictions(model, n_periods=5):\n",
        "    forecast = model.forecast(steps=n_periods)\n",
        "    return forecast\n"
      ]
    },
    {
      "cell_type": "code",
      "execution_count": 10,
      "id": "5a1af75b",
      "metadata": {
        "id": "5a1af75b"
      },
      "outputs": [],
      "source": [
        "\n",
        "def add_prediction_layer(ndvi_map, predictions, map_center):\n",
        "    # Simular uma visualização de previsão NDVI para a camada\n",
        "    folium.Marker(location=map_center, popup=f\"Previsão NDVI: {predictions[0]:.2f}\").add_to(ndvi_map)\n"
      ]
    },
    {
      "cell_type": "code",
      "execution_count": 11,
      "id": "2f9f3851",
      "metadata": {
        "id": "2f9f3851"
      },
      "outputs": [],
      "source": [
        "\n",
        "def display_ndvi_maps(image_folder, map_center, zoom_start=10):\n",
        "    # Carregar e normalizar os dados\n",
        "    print(\"Carregando e amostrando dados...\")\n",
        "    ndvi_data = load_and_sample_data(image_folder)\n",
        "    scaler = MinMaxScaler(feature_range=(0, 1))\n",
        "    ndvi_scaled = scaler.fit_transform(ndvi_data.reshape(-1, 1)).flatten()\n",
        "\n",
        "    # Treinar modelo ARIMA\n",
        "    print(\"Treinando modelo ARIMA...\")\n",
        "    model = train_arima_model(ndvi_scaled)\n",
        "\n",
        "    # Fazer previsões\n",
        "    print(\"Fazendo previsões...\")\n",
        "    predictions_scaled = make_predictions(model, n_periods=5)\n",
        "    predictions = scaler.inverse_transform(predictions_scaled.reshape(-1, 1)).flatten()\n",
        "\n",
        "    # Criar o mapa com a primeira imagem NDVI\n",
        "    ndvi_files = sorted([f for f in os.listdir(image_folder) if f.endswith(\".tif\")])\n",
        "    ndvi_map = create_ndvi_map(os.path.join(image_folder, ndvi_files[0]), map_center, zoom_start)\n",
        "\n",
        "    # Adicionar camada de previsão ao mapa\n",
        "    add_prediction_layer(ndvi_map, predictions, map_center)\n",
        "\n",
        "    # Adicionar controle de camadas\n",
        "    folium.LayerControl().add_to(ndvi_map)\n",
        "\n",
        "    # Exibir mapa\n",
        "    return ndvi_map\n"
      ]
    },
    {
      "cell_type": "code",
      "execution_count": 12,
      "id": "28741ddf",
      "metadata": {
        "id": "28741ddf"
      },
      "outputs": [],
      "source": [
        "\n",
        "def main(image_folder, output_folder, map_center):\n",
        "    # Criar o mapa interativo com os NDVIs e previsões\n",
        "    ndvi_map = display_ndvi_maps(image_folder, map_center)\n",
        "\n",
        "    # Salvar o mapa interativo como arquivo HTML\n",
        "    output_file = os.path.join(output_folder, 'ndvi_map.html')\n",
        "    ndvi_map.save(output_file)\n",
        "    print(f\"Mapa interativo salvo em {output_file}\")\n"
      ]
    },
    {
      "cell_type": "code",
      "execution_count": 13,
      "id": "a300f6f6",
      "metadata": {
        "colab": {
          "base_uri": "https://localhost:8080/"
        },
        "id": "a300f6f6",
        "outputId": "f97d8835-1c02-46dd-fc76-fc8ca3abbbd2"
      },
      "outputs": [
        {
          "name": "stdout",
          "output_type": "stream",
          "text": [
            "Carregando e amostrando dados...\n",
            "Treinando modelo ARIMA...\n",
            "Fazendo previsões...\n",
            "Mapa interativo salvo em ./resultados/ndvi_map.html\n"
          ]
        }
      ],
      "source": [
        "\n",
        "# Exemplo de uso\n",
        "image_folder = \"./Angola_MODIS_Images\"  # Pasta com as imagens NDVI\n",
        "output_folder = \"./resultados\"  # Pasta para salvar resultados\n",
        "map_center = [-12.5, 17.5]  # Coordenadas do centro do mapa (latitude, longitude)\n",
        "\n",
        "main(image_folder, output_folder, map_center)\n"
      ]
    }
  ],
  "metadata": {
    "colab": {
      "provenance": []
    },
    "kernelspec": {
      "display_name": "Python 3",
      "name": "python3"
    },
    "language_info": {
      "codemirror_mode": {
        "name": "ipython",
        "version": 3
      },
      "file_extension": ".py",
      "mimetype": "text/x-python",
      "name": "python",
      "nbconvert_exporter": "python",
      "pygments_lexer": "ipython3",
      "version": "3.11.9"
    }
  },
  "nbformat": 4,
  "nbformat_minor": 5
}

{
  "cells": [
    {
      "cell_type": "markdown",
      "id": "75467dab",
      "metadata": {
        "id": "75467dab"
      },
      "source": [
        "# Visualização Interativa de Mudanças no NDVI ao Longo dos Anos\n",
        "\n",
        "Este notebook carrega várias imagens NDVI de diferentes anos, gera previsões usando ARIMA e exibe as mudanças ao longo do tempo em um mapa interativo. Através do controle de camadas, você poderá alternar entre diferentes anos e visualizar os dados.\n",
        "\n",
        "## Passos:\n",
        "1. Carregar dados NDVI das imagens .tif de diferentes anos.\n",
        "2. Exibir os NDVIs de diferentes anos em um mapa interativo com controle de camadas.\n",
        "3. Permitir comparação entre os anos por meio da alternância de camadas.\n"
      ]
    },
    {
      "cell_type": "code",
      "execution_count": 15,
      "id": "552609b2",
      "metadata": {
        "id": "552609b2"
      },
      "outputs": [],
      "source": [
        "\n",
        "import os\n",
        "import numpy as np\n",
        "import rasterio\n",
        "import folium\n",
        "import matplotlib.pyplot as plt\n"
      ]
    },
    {
      "cell_type": "code",
      "execution_count": 16,
      "id": "1fe6dd36",
      "metadata": {
        "id": "1fe6dd36"
      },
      "outputs": [],
      "source": [
        "\n",
        "def create_ndvi_layer(image_file, map_center, year, folium_map, opacity=0.6):\n",
        "    with rasterio.open(image_file) as src:\n",
        "        ndvi_image = src.read(1)\n",
        "        ndvi_bounds = src.bounds\n",
        "\n",
        "        # Salvar a imagem temporariamente como PNG para exibir no mapa\n",
        "        plt.figure(figsize=(8, 6))\n",
        "        img = plt.imshow(ndvi_image, cmap='RdYlGn', vmin=np.nanmin(ndvi_image), vmax=np.nanmax(ndvi_image))\n",
        "        plt.colorbar(img, label='NDVI')\n",
        "        plt.title(f'NDVI - {year}')\n",
        "        output_image = f'./resultados/ndvi_{year}.png'\n",
        "        plt.savefig(output_image)\n",
        "        plt.close()\n",
        "\n",
        "        # Adicionar a imagem como uma camada ao mapa\n",
        "        ndvi_overlay = folium.raster_layers.ImageOverlay(\n",
        "            image=output_image,\n",
        "            bounds=[[ndvi_bounds.bottom, ndvi_bounds.left],\n",
        "                    [ndvi_bounds.top, ndvi_bounds.right]],\n",
        "            opacity=opacity,\n",
        "            name=f'NDVI {year}'\n",
        "        )\n",
        "        ndvi_overlay.add_to(folium_map)\n"
      ]
    },
    {
      "cell_type": "code",
      "execution_count": 17,
      "id": "bceca1d9",
      "metadata": {
        "id": "bceca1d9"
      },
      "outputs": [],
      "source": [
        "\n",
        "def create_interactive_ndvi_map(image_folder, map_center):\n",
        "    # Criar o mapa base\n",
        "    folium_map = folium.Map(location=map_center, zoom_start=10)\n",
        "\n",
        "    # Obter todos os arquivos NDVI na pasta (assumindo que o nome do arquivo inclui o ano)\n",
        "    ndvi_files = sorted([f for f in os.listdir(image_folder) if f.endswith('.tif')])\n",
        "\n",
        "    # Iterar sobre os arquivos NDVI, adicionando cada um como uma camada separada no mapa\n",
        "    for ndvi_file in ndvi_files:\n",
        "        year = ndvi_file.split('.')[0]  # Assumindo que o ano está no nome do arquivo (ex: \"NDVI_2020.tif\")\n",
        "        file_path = os.path.join(image_folder, ndvi_file)\n",
        "        create_ndvi_layer(file_path, map_center, year, folium_map)\n",
        "\n",
        "    # Adicionar controle de camadas para alternar entre os anos\n",
        "    folium.LayerControl().add_to(folium_map)\n",
        "\n",
        "    # Retornar o mapa interativo\n",
        "    return folium_map\n"
      ]
    },
    {
      "cell_type": "code",
      "execution_count": 18,
      "id": "28f74493",
      "metadata": {
        "id": "28f74493"
      },
      "outputs": [],
      "source": [
        "\n",
        "def main(image_folder, output_folder, map_center):\n",
        "    # Criar o mapa interativo com os NDVIs de anos diferentes\n",
        "    ndvi_map = create_interactive_ndvi_map(image_folder, map_center)\n",
        "\n",
        "    # Salvar o mapa interativo como arquivo HTML\n",
        "    output_file = os.path.join(output_folder, 'ndvi_comparison_map.html')\n",
        "    ndvi_map.save(output_file)\n",
        "    print(f\"Mapa interativo salvo em {output_file}\")\n"
      ]
    },
    {
      "cell_type": "code",
      "execution_count": 19,
      "id": "3e39bd61",
      "metadata": {
        "colab": {
          "base_uri": "https://localhost:8080/"
        },
        "id": "3e39bd61",
        "outputId": "ba428ae7-d5eb-49ae-b861-aeae2ebbe747"
      },
      "outputs": [
        {
          "name": "stdout",
          "output_type": "stream",
          "text": [
            "Mapa interativo salvo em ./resultados/ndvi_comparison_map.html\n"
          ]
        }
      ],
      "source": [
        "\n",
        "# Exemplo de uso\n",
        "image_folder = \"./Angola_MODIS_Images\"  # Pasta com as imagens NDVI (por ano)\n",
        "output_folder = \"./resultados\"  # Pasta para salvar resultados\n",
        "map_center = [-12.5, 17.5]  # Coordenadas do centro do mapa (latitude, longitude)\n",
        "\n",
        "main(image_folder, output_folder, map_center)\n"
      ]
    }
  ],
  "metadata": {
    "colab": {
      "provenance": []
    },
    "kernelspec": {
      "display_name": "Python 3",
      "name": "python3"
    },
    "language_info": {
      "codemirror_mode": {
        "name": "ipython",
        "version": 3
      },
      "file_extension": ".py",
      "mimetype": "text/x-python",
      "name": "python",
      "nbconvert_exporter": "python",
      "pygments_lexer": "ipython3",
      "version": "3.11.9"
    }
  },
  "nbformat": 4,
  "nbformat_minor": 5
}
